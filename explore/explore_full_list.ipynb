{
 "cells": [
  {
   "cell_type": "markdown",
   "metadata": {
    "toc": true
   },
   "source": [
    "<h1>Table of Contents<span class=\"tocSkip\"></span></h1>\n",
    "<div class=\"toc\"><ul class=\"toc-item\"><li><span><a href=\"#Rough-Understanding-of-HK-Open-Data\" data-toc-modified-id=\"Rough-Understanding-of-HK-Open-Data-1\"><span class=\"toc-item-num\">1&nbsp;&nbsp;</span>Rough Understanding of HK Open Data</a></span><ul class=\"toc-item\"><li><span><a href=\"#The-Full-List\" data-toc-modified-id=\"The-Full-List-1.1\"><span class=\"toc-item-num\">1.1&nbsp;&nbsp;</span>The Full List</a></span></li><li><span><a href=\"#Summarized-by-Data-Provider-and-Data-Category\" data-toc-modified-id=\"Summarized-by-Data-Provider-and-Data-Category-1.2\"><span class=\"toc-item-num\">1.2&nbsp;&nbsp;</span>Summarized by Data Provider and Data Category</a></span><ul class=\"toc-item\"><li><span><a href=\"#By-Data-Provider\" data-toc-modified-id=\"By-Data-Provider-1.2.1\"><span class=\"toc-item-num\">1.2.1&nbsp;&nbsp;</span>By Data Provider</a></span></li><li><span><a href=\"#By-Data-Category\" data-toc-modified-id=\"By-Data-Category-1.2.2\"><span class=\"toc-item-num\">1.2.2&nbsp;&nbsp;</span>By Data Category</a></span></li><li><span><a href=\"#By-Category-+-Provider\" data-toc-modified-id=\"By-Category-+-Provider-1.2.3\"><span class=\"toc-item-num\">1.2.3&nbsp;&nbsp;</span>By Category + Provider</a></span></li></ul></li><li><span><a href=\"#Task-Allocation-by-Category\" data-toc-modified-id=\"Task-Allocation-by-Category-1.3\"><span class=\"toc-item-num\">1.3&nbsp;&nbsp;</span>Task Allocation by Category</a></span><ul class=\"toc-item\"><li><span><a href=\"#health-(#1000)\" data-toc-modified-id=\"health-(#1000)-1.3.1\"><span class=\"toc-item-num\">1.3.1&nbsp;&nbsp;</span>health (#1000)</a></span></li><li><span><a href=\"#environment-(#1726)\" data-toc-modified-id=\"environment-(#1726)-1.3.2\"><span class=\"toc-item-num\">1.3.2&nbsp;&nbsp;</span>environment (#1726)</a></span></li><li><span><a href=\"#finance-(#1736)\" data-toc-modified-id=\"finance-(#1736)-1.3.3\"><span class=\"toc-item-num\">1.3.3&nbsp;&nbsp;</span>finance (#1736)</a></span></li><li><span><a href=\"#climate-and-weather-(#375)\" data-toc-modified-id=\"climate-and-weather-(#375)-1.3.4\"><span class=\"toc-item-num\">1.3.4&nbsp;&nbsp;</span>climate and weather (#375)</a></span></li><li><span><a href=\"#employment-and-labour-(#363)\" data-toc-modified-id=\"employment-and-labour-(#363)-1.3.5\"><span class=\"toc-item-num\">1.3.5&nbsp;&nbsp;</span>employment and labour (#363)</a></span></li></ul></li></ul></li></ul></div>"
   ]
  },
  {
   "cell_type": "markdown",
   "metadata": {},
   "source": [
    "# Rough Understanding of HK Open Data"
   ]
  },
  {
   "cell_type": "code",
   "execution_count": 1,
   "metadata": {},
   "outputs": [
    {
     "name": "stderr",
     "output_type": "stream",
     "text": [
      "── \u001b[1mAttaching packages\u001b[22m ─────────────────────────────────────── tidyverse 1.3.0 ──\n",
      "\u001b[32m✔\u001b[39m \u001b[34mggplot2\u001b[39m 3.2.1     \u001b[32m✔\u001b[39m \u001b[34mpurrr  \u001b[39m 0.3.3\n",
      "\u001b[32m✔\u001b[39m \u001b[34mtibble \u001b[39m 2.1.3     \u001b[32m✔\u001b[39m \u001b[34mdplyr  \u001b[39m 0.8.3\n",
      "\u001b[32m✔\u001b[39m \u001b[34mtidyr  \u001b[39m 1.0.0     \u001b[32m✔\u001b[39m \u001b[34mstringr\u001b[39m 1.4.0\n",
      "\u001b[32m✔\u001b[39m \u001b[34mreadr  \u001b[39m 1.3.1     \u001b[32m✔\u001b[39m \u001b[34mforcats\u001b[39m 0.4.0\n",
      "── \u001b[1mConflicts\u001b[22m ────────────────────────────────────────── tidyverse_conflicts() ──\n",
      "\u001b[31m✖\u001b[39m \u001b[34mdplyr\u001b[39m::\u001b[32mfilter()\u001b[39m masks \u001b[34mstats\u001b[39m::filter()\n",
      "\u001b[31m✖\u001b[39m \u001b[34mdplyr\u001b[39m::\u001b[32mlag()\u001b[39m    masks \u001b[34mstats\u001b[39m::lag()\n"
     ]
    }
   ],
   "source": [
    "library(tidyverse)"
   ]
  },
  {
   "cell_type": "markdown",
   "metadata": {},
   "source": [
    "## The Full List"
   ]
  },
  {
   "cell_type": "code",
   "execution_count": 2,
   "metadata": {},
   "outputs": [],
   "source": [
    "load(file = \"../combined_table/combined_table.rda\") # already upload to database: `external.hk_opendata_list`"
   ]
  },
  {
   "cell_type": "code",
   "execution_count": 24,
   "metadata": {},
   "outputs": [],
   "source": [
    "# totally 19,520 data sets"
   ]
  },
  {
   "cell_type": "code",
   "execution_count": 21,
   "metadata": {},
   "outputs": [
    {
     "data": {
      "text/html": [
       "19520"
      ],
      "text/latex": [
       "19520"
      ],
      "text/markdown": [
       "19520"
      ],
      "text/plain": [
       "[1] 19520"
      ]
     },
     "metadata": {},
     "output_type": "display_data"
    }
   ],
   "source": [
    "nrow(combined_table)"
   ]
  },
  {
   "cell_type": "code",
   "execution_count": 25,
   "metadata": {},
   "outputs": [],
   "source": [
    "# the example of the full list "
   ]
  },
  {
   "cell_type": "code",
   "execution_count": 19,
   "metadata": {},
   "outputs": [
    {
     "data": {
      "text/html": [
       "<table>\n",
       "<caption>A data.frame: 3 × 8</caption>\n",
       "<thead>\n",
       "\t<tr><th scope=col>collection_name</th><th scope=col>collection_description</th><th scope=col>dataset_name</th><th scope=col>data_category</th><th scope=col>data_provider</th><th scope=col>data_format</th><th scope=col>update_freq</th><th scope=col>has_api</th></tr>\n",
       "\t<tr><th scope=col>&lt;chr&gt;</th><th scope=col>&lt;chr&gt;</th><th scope=col>&lt;chr&gt;</th><th scope=col>&lt;chr&gt;</th><th scope=col>&lt;chr&gt;</th><th scope=col>&lt;chr&gt;</th><th scope=col>&lt;chr&gt;</th><th scope=col>&lt;int&gt;</th></tr>\n",
       "</thead>\n",
       "<tbody>\n",
       "\t<tr><td>1823 Service Requests and Performance Data</td><td>1823 of the Efficiency Office provides a round-the-clock one-stop service to answer enquiries for 23 departments and to receive complaints about any area of Government services. Data related to the business volume and performance of the operation will...</td><td>1823 Service Requests and Performance Data</td><td>city_management</td><td>Efficiency Office                       </td><td>JSON</td><td>Monthly              </td><td>0</td></tr>\n",
       "\t<tr><td>Accessible facilities in Hong Kong        </td><td>A list of accessible facilities at local attractions, hotels, shopping / dining locations and other venues\n",
       "This dataset is the result of an extensive study on the accessibility of tourists' facilities in Hong Kong focusing on accommodation, dining...   </td><td>Attractions                               </td><td>city_management</td><td>The Hong Kong Society for Rehabilitation</td><td>XML </td><td>As and when necessary</td><td>0</td></tr>\n",
       "\t<tr><td>Accessible facilities in Hong Kong        </td><td>A list of accessible facilities at local attractions, hotels, shopping / dining locations and other venues\n",
       "This dataset is the result of an extensive study on the accessibility of tourists' facilities in Hong Kong focusing on accommodation, dining...   </td><td>Shopping and dining                       </td><td>city_management</td><td>The Hong Kong Society for Rehabilitation</td><td>XML </td><td>As and when necessary</td><td>0</td></tr>\n",
       "</tbody>\n",
       "</table>\n"
      ],
      "text/latex": [
       "A data.frame: 3 × 8\n",
       "\\begin{tabular}{r|llllllll}\n",
       " collection\\_name & collection\\_description & dataset\\_name & data\\_category & data\\_provider & data\\_format & update\\_freq & has\\_api\\\\\n",
       " <chr> & <chr> & <chr> & <chr> & <chr> & <chr> & <chr> & <int>\\\\\n",
       "\\hline\n",
       "\t 1823 Service Requests and Performance Data & 1823 of the Efficiency Office provides a round-the-clock one-stop service to answer enquiries for 23 departments and to receive complaints about any area of Government services. Data related to the business volume and performance of the operation will... & 1823 Service Requests and Performance Data & city\\_management & Efficiency Office                        & JSON & Monthly               & 0\\\\\n",
       "\t Accessible facilities in Hong Kong         & A list of accessible facilities at local attractions, hotels, shopping / dining locations and other venues\n",
       "This dataset is the result of an extensive study on the accessibility of tourists' facilities in Hong Kong focusing on accommodation, dining...    & Attractions                                & city\\_management & The Hong Kong Society for Rehabilitation & XML  & As and when necessary & 0\\\\\n",
       "\t Accessible facilities in Hong Kong         & A list of accessible facilities at local attractions, hotels, shopping / dining locations and other venues\n",
       "This dataset is the result of an extensive study on the accessibility of tourists' facilities in Hong Kong focusing on accommodation, dining...    & Shopping and dining                        & city\\_management & The Hong Kong Society for Rehabilitation & XML  & As and when necessary & 0\\\\\n",
       "\\end{tabular}\n"
      ],
      "text/markdown": [
       "\n",
       "A data.frame: 3 × 8\n",
       "\n",
       "| collection_name &lt;chr&gt; | collection_description &lt;chr&gt; | dataset_name &lt;chr&gt; | data_category &lt;chr&gt; | data_provider &lt;chr&gt; | data_format &lt;chr&gt; | update_freq &lt;chr&gt; | has_api &lt;int&gt; |\n",
       "|---|---|---|---|---|---|---|---|\n",
       "| 1823 Service Requests and Performance Data | 1823 of the Efficiency Office provides a round-the-clock one-stop service to answer enquiries for 23 departments and to receive complaints about any area of Government services. Data related to the business volume and performance of the operation will... | 1823 Service Requests and Performance Data | city_management | Efficiency Office                        | JSON | Monthly               | 0 |\n",
       "| Accessible facilities in Hong Kong         | A list of accessible facilities at local attractions, hotels, shopping / dining locations and other venues\n",
       "This dataset is the result of an extensive study on the accessibility of tourists' facilities in Hong Kong focusing on accommodation, dining...    | Attractions                                | city_management | The Hong Kong Society for Rehabilitation | XML  | As and when necessary | 0 |\n",
       "| Accessible facilities in Hong Kong         | A list of accessible facilities at local attractions, hotels, shopping / dining locations and other venues\n",
       "This dataset is the result of an extensive study on the accessibility of tourists' facilities in Hong Kong focusing on accommodation, dining...    | Shopping and dining                        | city_management | The Hong Kong Society for Rehabilitation | XML  | As and when necessary | 0 |\n",
       "\n"
      ],
      "text/plain": [
       "  collection_name                           \n",
       "1 1823 Service Requests and Performance Data\n",
       "2 Accessible facilities in Hong Kong        \n",
       "3 Accessible facilities in Hong Kong        \n",
       "  collection_description                                                                                                                                                                                                                                        \n",
       "1 1823 of the Efficiency Office provides a round-the-clock one-stop service to answer enquiries for 23 departments and to receive complaints about any area of Government services. Data related to the business volume and performance of the operation will...\n",
       "2 A list of accessible facilities at local attractions, hotels, shopping / dining locations and other venues\\nThis dataset is the result of an extensive study on the accessibility of tourists' facilities in Hong Kong focusing on accommodation, dining...   \n",
       "3 A list of accessible facilities at local attractions, hotels, shopping / dining locations and other venues\\nThis dataset is the result of an extensive study on the accessibility of tourists' facilities in Hong Kong focusing on accommodation, dining...   \n",
       "  dataset_name                               data_category  \n",
       "1 1823 Service Requests and Performance Data city_management\n",
       "2 Attractions                                city_management\n",
       "3 Shopping and dining                        city_management\n",
       "  data_provider                            data_format update_freq          \n",
       "1 Efficiency Office                        JSON        Monthly              \n",
       "2 The Hong Kong Society for Rehabilitation XML         As and when necessary\n",
       "3 The Hong Kong Society for Rehabilitation XML         As and when necessary\n",
       "  has_api\n",
       "1 0      \n",
       "2 0      \n",
       "3 0      "
      ]
     },
     "metadata": {},
     "output_type": "display_data"
    }
   ],
   "source": [
    "head(combined_table,3)"
   ]
  },
  {
   "cell_type": "markdown",
   "metadata": {},
   "source": [
    "## Summarized by Data Provider and Data Category"
   ]
  },
  {
   "cell_type": "markdown",
   "metadata": {},
   "source": [
    "### By Data Provider"
   ]
  },
  {
   "cell_type": "code",
   "execution_count": 31,
   "metadata": {},
   "outputs": [],
   "source": [
    "a <- combined_table %>% \n",
    "    group_by(data_provider) %>% \n",
    "    summarise(cnt_by_provider = n()) %>% \n",
    "    arrange(desc(cnt_by_provider))"
   ]
  },
  {
   "cell_type": "code",
   "execution_count": 32,
   "metadata": {},
   "outputs": [
    {
     "data": {
      "text/html": [
       "<table>\n",
       "<caption>A tibble: 5 × 2</caption>\n",
       "<thead>\n",
       "\t<tr><th scope=col>data_provider</th><th scope=col>cnt_by_provider</th></tr>\n",
       "\t<tr><th scope=col>&lt;chr&gt;</th><th scope=col>&lt;int&gt;</th></tr>\n",
       "</thead>\n",
       "<tbody>\n",
       "\t<tr><td>Census and Statistics Department   </td><td>6256</td></tr>\n",
       "\t<tr><td>Transport Department               </td><td>1810</td></tr>\n",
       "\t<tr><td>Buildings Department               </td><td>1687</td></tr>\n",
       "\t<tr><td>Environmental Protection Department</td><td> 907</td></tr>\n",
       "\t<tr><td>Insurance Authority                </td><td> 900</td></tr>\n",
       "</tbody>\n",
       "</table>\n"
      ],
      "text/latex": [
       "A tibble: 5 × 2\n",
       "\\begin{tabular}{r|ll}\n",
       " data\\_provider & cnt\\_by\\_provider\\\\\n",
       " <chr> & <int>\\\\\n",
       "\\hline\n",
       "\t Census and Statistics Department    & 6256\\\\\n",
       "\t Transport Department                & 1810\\\\\n",
       "\t Buildings Department                & 1687\\\\\n",
       "\t Environmental Protection Department &  907\\\\\n",
       "\t Insurance Authority                 &  900\\\\\n",
       "\\end{tabular}\n"
      ],
      "text/markdown": [
       "\n",
       "A tibble: 5 × 2\n",
       "\n",
       "| data_provider &lt;chr&gt; | cnt_by_provider &lt;int&gt; |\n",
       "|---|---|\n",
       "| Census and Statistics Department    | 6256 |\n",
       "| Transport Department                | 1810 |\n",
       "| Buildings Department                | 1687 |\n",
       "| Environmental Protection Department |  907 |\n",
       "| Insurance Authority                 |  900 |\n",
       "\n"
      ],
      "text/plain": [
       "  data_provider                       cnt_by_provider\n",
       "1 Census and Statistics Department    6256           \n",
       "2 Transport Department                1810           \n",
       "3 Buildings Department                1687           \n",
       "4 Environmental Protection Department  907           \n",
       "5 Insurance Authority                  900           "
      ]
     },
     "metadata": {},
     "output_type": "display_data"
    }
   ],
   "source": [
    "head(a,5)"
   ]
  },
  {
   "cell_type": "markdown",
   "metadata": {},
   "source": [
    "### By Data Category"
   ]
  },
  {
   "cell_type": "code",
   "execution_count": 34,
   "metadata": {},
   "outputs": [],
   "source": [
    "b <- combined_table %>% \n",
    "    group_by(data_category) %>% \n",
    "    summarise(cnt_by_category = n()) %>%\n",
    "    arrange(desc(cnt_by_category))"
   ]
  },
  {
   "cell_type": "code",
   "execution_count": 35,
   "metadata": {},
   "outputs": [
    {
     "data": {
      "text/html": [
       "<table>\n",
       "<caption>A tibble: 18 × 2</caption>\n",
       "<thead>\n",
       "\t<tr><th scope=col>data_category</th><th scope=col>cnt_by_category</th></tr>\n",
       "\t<tr><th scope=col>&lt;chr&gt;</th><th scope=col>&lt;int&gt;</th></tr>\n",
       "</thead>\n",
       "<tbody>\n",
       "\t<tr><td>population                             </td><td>4902</td></tr>\n",
       "\t<tr><td>development                            </td><td>2539</td></tr>\n",
       "\t<tr><td>transport                              </td><td>2126</td></tr>\n",
       "\t<tr><td>finance                                </td><td>1736</td></tr>\n",
       "\t<tr><td>environment                            </td><td>1726</td></tr>\n",
       "\t<tr><td>commerce_and_industry                  </td><td>1017</td></tr>\n",
       "\t<tr><td>health                                 </td><td>1000</td></tr>\n",
       "\t<tr><td>miscellaneous                          </td><td> 947</td></tr>\n",
       "\t<tr><td>housing                                </td><td> 876</td></tr>\n",
       "\t<tr><td>law_and_security                       </td><td> 511</td></tr>\n",
       "\t<tr><td>education                              </td><td> 485</td></tr>\n",
       "\t<tr><td>climate_and_weather                    </td><td> 375</td></tr>\n",
       "\t<tr><td>employment_and_labour                  </td><td> 363</td></tr>\n",
       "\t<tr><td>information_technology_and_broadcasting</td><td> 341</td></tr>\n",
       "\t<tr><td>city_management                        </td><td> 281</td></tr>\n",
       "\t<tr><td>recreation_and_culture                 </td><td> 183</td></tr>\n",
       "\t<tr><td>social_welfare                         </td><td>  84</td></tr>\n",
       "\t<tr><td>food                                   </td><td>  28</td></tr>\n",
       "</tbody>\n",
       "</table>\n"
      ],
      "text/latex": [
       "A tibble: 18 × 2\n",
       "\\begin{tabular}{r|ll}\n",
       " data\\_category & cnt\\_by\\_category\\\\\n",
       " <chr> & <int>\\\\\n",
       "\\hline\n",
       "\t population                              & 4902\\\\\n",
       "\t development                             & 2539\\\\\n",
       "\t transport                               & 2126\\\\\n",
       "\t finance                                 & 1736\\\\\n",
       "\t environment                             & 1726\\\\\n",
       "\t commerce\\_and\\_industry                   & 1017\\\\\n",
       "\t health                                  & 1000\\\\\n",
       "\t miscellaneous                           &  947\\\\\n",
       "\t housing                                 &  876\\\\\n",
       "\t law\\_and\\_security                        &  511\\\\\n",
       "\t education                               &  485\\\\\n",
       "\t climate\\_and\\_weather                     &  375\\\\\n",
       "\t employment\\_and\\_labour                   &  363\\\\\n",
       "\t information\\_technology\\_and\\_broadcasting &  341\\\\\n",
       "\t city\\_management                         &  281\\\\\n",
       "\t recreation\\_and\\_culture                  &  183\\\\\n",
       "\t social\\_welfare                          &   84\\\\\n",
       "\t food                                    &   28\\\\\n",
       "\\end{tabular}\n"
      ],
      "text/markdown": [
       "\n",
       "A tibble: 18 × 2\n",
       "\n",
       "| data_category &lt;chr&gt; | cnt_by_category &lt;int&gt; |\n",
       "|---|---|\n",
       "| population                              | 4902 |\n",
       "| development                             | 2539 |\n",
       "| transport                               | 2126 |\n",
       "| finance                                 | 1736 |\n",
       "| environment                             | 1726 |\n",
       "| commerce_and_industry                   | 1017 |\n",
       "| health                                  | 1000 |\n",
       "| miscellaneous                           |  947 |\n",
       "| housing                                 |  876 |\n",
       "| law_and_security                        |  511 |\n",
       "| education                               |  485 |\n",
       "| climate_and_weather                     |  375 |\n",
       "| employment_and_labour                   |  363 |\n",
       "| information_technology_and_broadcasting |  341 |\n",
       "| city_management                         |  281 |\n",
       "| recreation_and_culture                  |  183 |\n",
       "| social_welfare                          |   84 |\n",
       "| food                                    |   28 |\n",
       "\n"
      ],
      "text/plain": [
       "   data_category                           cnt_by_category\n",
       "1  population                              4902           \n",
       "2  development                             2539           \n",
       "3  transport                               2126           \n",
       "4  finance                                 1736           \n",
       "5  environment                             1726           \n",
       "6  commerce_and_industry                   1017           \n",
       "7  health                                  1000           \n",
       "8  miscellaneous                            947           \n",
       "9  housing                                  876           \n",
       "10 law_and_security                         511           \n",
       "11 education                                485           \n",
       "12 climate_and_weather                      375           \n",
       "13 employment_and_labour                    363           \n",
       "14 information_technology_and_broadcasting  341           \n",
       "15 city_management                          281           \n",
       "16 recreation_and_culture                   183           \n",
       "17 social_welfare                            84           \n",
       "18 food                                      28           "
      ]
     },
     "metadata": {},
     "output_type": "display_data"
    }
   ],
   "source": [
    "b"
   ]
  },
  {
   "cell_type": "markdown",
   "metadata": {},
   "source": [
    "### By Category + Provider"
   ]
  },
  {
   "cell_type": "code",
   "execution_count": 37,
   "metadata": {},
   "outputs": [],
   "source": [
    "c <- combined_table %>% group_by(data_provider, data_category) %>% summarise(cnt_by_prov_cate = n())"
   ]
  },
  {
   "cell_type": "code",
   "execution_count": 41,
   "metadata": {},
   "outputs": [],
   "source": [
    "d <- c %>% \n",
    "    left_join(a, by = \"data_provider\") %>% \n",
    "    left_join(b, by = \"data_category\") %>% \n",
    "    arrange(desc(cnt_by_prov_cate))"
   ]
  },
  {
   "cell_type": "code",
   "execution_count": 42,
   "metadata": {},
   "outputs": [
    {
     "data": {
      "text/html": [
       "<table>\n",
       "<caption>A grouped_df: 20 × 5</caption>\n",
       "<thead>\n",
       "\t<tr><th scope=col>data_provider</th><th scope=col>data_category</th><th scope=col>cnt_by_prov_cate</th><th scope=col>cnt_by_provider</th><th scope=col>cnt_by_category</th></tr>\n",
       "\t<tr><th scope=col>&lt;chr&gt;</th><th scope=col>&lt;chr&gt;</th><th scope=col>&lt;int&gt;</th><th scope=col>&lt;int&gt;</th><th scope=col>&lt;int&gt;</th></tr>\n",
       "</thead>\n",
       "<tbody>\n",
       "\t<tr><td>Census and Statistics Department             </td><td>population           </td><td>4876</td><td>6256</td><td>4902</td></tr>\n",
       "\t<tr><td>Transport Department                         </td><td>transport            </td><td>1810</td><td>1810</td><td>2126</td></tr>\n",
       "\t<tr><td>Buildings Department                         </td><td>development          </td><td>1687</td><td>1687</td><td>2539</td></tr>\n",
       "\t<tr><td>Environmental Protection Department          </td><td>environment          </td><td> 907</td><td> 907</td><td>1726</td></tr>\n",
       "\t<tr><td>Insurance Authority                          </td><td>finance              </td><td> 900</td><td> 900</td><td>1736</td></tr>\n",
       "\t<tr><td>Department of Health                         </td><td>health               </td><td> 764</td><td> 764</td><td>1000</td></tr>\n",
       "\t<tr><td>Electrical and Mechanical Services Department</td><td>environment          </td><td> 702</td><td> 793</td><td>1726</td></tr>\n",
       "\t<tr><td>Land Registry                                </td><td>housing              </td><td> 678</td><td> 678</td><td> 876</td></tr>\n",
       "\t<tr><td>Census and Statistics Department             </td><td>commerce_and_industry</td><td> 636</td><td>6256</td><td>1017</td></tr>\n",
       "\t<tr><td>Registration and Electoral Office            </td><td>miscellaneous        </td><td> 482</td><td> 482</td><td> 947</td></tr>\n",
       "\t<tr><td>Planning Department                          </td><td>development          </td><td> 424</td><td> 542</td><td>2539</td></tr>\n",
       "\t<tr><td>Lands Department                             </td><td>development          </td><td> 373</td><td> 411</td><td>2539</td></tr>\n",
       "\t<tr><td>Hong Kong Observatory                        </td><td>climate_and_weather  </td><td> 372</td><td> 372</td><td> 375</td></tr>\n",
       "\t<tr><td>Census and Statistics Department             </td><td>finance              </td><td> 272</td><td>6256</td><td>1736</td></tr>\n",
       "\t<tr><td>Education Bureau                             </td><td>education            </td><td> 242</td><td> 242</td><td> 485</td></tr>\n",
       "\t<tr><td>Census and Statistics Department             </td><td>employment_and_labour</td><td> 230</td><td>6256</td><td> 363</td></tr>\n",
       "\t<tr><td>Companies Registry                           </td><td>finance              </td><td> 209</td><td> 209</td><td>1736</td></tr>\n",
       "\t<tr><td>Water Supplies Department                    </td><td>city_management      </td><td> 192</td><td> 196</td><td> 281</td></tr>\n",
       "\t<tr><td>Security Bureau                              </td><td>law_and_security     </td><td> 166</td><td> 166</td><td> 511</td></tr>\n",
       "\t<tr><td>Hospital Authority                           </td><td>health               </td><td> 156</td><td> 156</td><td>1000</td></tr>\n",
       "</tbody>\n",
       "</table>\n"
      ],
      "text/latex": [
       "A grouped_df: 20 × 5\n",
       "\\begin{tabular}{r|lllll}\n",
       " data\\_provider & data\\_category & cnt\\_by\\_prov\\_cate & cnt\\_by\\_provider & cnt\\_by\\_category\\\\\n",
       " <chr> & <chr> & <int> & <int> & <int>\\\\\n",
       "\\hline\n",
       "\t Census and Statistics Department              & population            & 4876 & 6256 & 4902\\\\\n",
       "\t Transport Department                          & transport             & 1810 & 1810 & 2126\\\\\n",
       "\t Buildings Department                          & development           & 1687 & 1687 & 2539\\\\\n",
       "\t Environmental Protection Department           & environment           &  907 &  907 & 1726\\\\\n",
       "\t Insurance Authority                           & finance               &  900 &  900 & 1736\\\\\n",
       "\t Department of Health                          & health                &  764 &  764 & 1000\\\\\n",
       "\t Electrical and Mechanical Services Department & environment           &  702 &  793 & 1726\\\\\n",
       "\t Land Registry                                 & housing               &  678 &  678 &  876\\\\\n",
       "\t Census and Statistics Department              & commerce\\_and\\_industry &  636 & 6256 & 1017\\\\\n",
       "\t Registration and Electoral Office             & miscellaneous         &  482 &  482 &  947\\\\\n",
       "\t Planning Department                           & development           &  424 &  542 & 2539\\\\\n",
       "\t Lands Department                              & development           &  373 &  411 & 2539\\\\\n",
       "\t Hong Kong Observatory                         & climate\\_and\\_weather   &  372 &  372 &  375\\\\\n",
       "\t Census and Statistics Department              & finance               &  272 & 6256 & 1736\\\\\n",
       "\t Education Bureau                              & education             &  242 &  242 &  485\\\\\n",
       "\t Census and Statistics Department              & employment\\_and\\_labour &  230 & 6256 &  363\\\\\n",
       "\t Companies Registry                            & finance               &  209 &  209 & 1736\\\\\n",
       "\t Water Supplies Department                     & city\\_management       &  192 &  196 &  281\\\\\n",
       "\t Security Bureau                               & law\\_and\\_security      &  166 &  166 &  511\\\\\n",
       "\t Hospital Authority                            & health                &  156 &  156 & 1000\\\\\n",
       "\\end{tabular}\n"
      ],
      "text/markdown": [
       "\n",
       "A grouped_df: 20 × 5\n",
       "\n",
       "| data_provider &lt;chr&gt; | data_category &lt;chr&gt; | cnt_by_prov_cate &lt;int&gt; | cnt_by_provider &lt;int&gt; | cnt_by_category &lt;int&gt; |\n",
       "|---|---|---|---|---|\n",
       "| Census and Statistics Department              | population            | 4876 | 6256 | 4902 |\n",
       "| Transport Department                          | transport             | 1810 | 1810 | 2126 |\n",
       "| Buildings Department                          | development           | 1687 | 1687 | 2539 |\n",
       "| Environmental Protection Department           | environment           |  907 |  907 | 1726 |\n",
       "| Insurance Authority                           | finance               |  900 |  900 | 1736 |\n",
       "| Department of Health                          | health                |  764 |  764 | 1000 |\n",
       "| Electrical and Mechanical Services Department | environment           |  702 |  793 | 1726 |\n",
       "| Land Registry                                 | housing               |  678 |  678 |  876 |\n",
       "| Census and Statistics Department              | commerce_and_industry |  636 | 6256 | 1017 |\n",
       "| Registration and Electoral Office             | miscellaneous         |  482 |  482 |  947 |\n",
       "| Planning Department                           | development           |  424 |  542 | 2539 |\n",
       "| Lands Department                              | development           |  373 |  411 | 2539 |\n",
       "| Hong Kong Observatory                         | climate_and_weather   |  372 |  372 |  375 |\n",
       "| Census and Statistics Department              | finance               |  272 | 6256 | 1736 |\n",
       "| Education Bureau                              | education             |  242 |  242 |  485 |\n",
       "| Census and Statistics Department              | employment_and_labour |  230 | 6256 |  363 |\n",
       "| Companies Registry                            | finance               |  209 |  209 | 1736 |\n",
       "| Water Supplies Department                     | city_management       |  192 |  196 |  281 |\n",
       "| Security Bureau                               | law_and_security      |  166 |  166 |  511 |\n",
       "| Hospital Authority                            | health                |  156 |  156 | 1000 |\n",
       "\n"
      ],
      "text/plain": [
       "   data_provider                                 data_category        \n",
       "1  Census and Statistics Department              population           \n",
       "2  Transport Department                          transport            \n",
       "3  Buildings Department                          development          \n",
       "4  Environmental Protection Department           environment          \n",
       "5  Insurance Authority                           finance              \n",
       "6  Department of Health                          health               \n",
       "7  Electrical and Mechanical Services Department environment          \n",
       "8  Land Registry                                 housing              \n",
       "9  Census and Statistics Department              commerce_and_industry\n",
       "10 Registration and Electoral Office             miscellaneous        \n",
       "11 Planning Department                           development          \n",
       "12 Lands Department                              development          \n",
       "13 Hong Kong Observatory                         climate_and_weather  \n",
       "14 Census and Statistics Department              finance              \n",
       "15 Education Bureau                              education            \n",
       "16 Census and Statistics Department              employment_and_labour\n",
       "17 Companies Registry                            finance              \n",
       "18 Water Supplies Department                     city_management      \n",
       "19 Security Bureau                               law_and_security     \n",
       "20 Hospital Authority                            health               \n",
       "   cnt_by_prov_cate cnt_by_provider cnt_by_category\n",
       "1  4876             6256            4902           \n",
       "2  1810             1810            2126           \n",
       "3  1687             1687            2539           \n",
       "4   907              907            1726           \n",
       "5   900              900            1736           \n",
       "6   764              764            1000           \n",
       "7   702              793            1726           \n",
       "8   678              678             876           \n",
       "9   636             6256            1017           \n",
       "10  482              482             947           \n",
       "11  424              542            2539           \n",
       "12  373              411            2539           \n",
       "13  372              372             375           \n",
       "14  272             6256            1736           \n",
       "15  242              242             485           \n",
       "16  230             6256             363           \n",
       "17  209              209            1736           \n",
       "18  192              196             281           \n",
       "19  166              166             511           \n",
       "20  156              156            1000           "
      ]
     },
     "metadata": {},
     "output_type": "display_data"
    }
   ],
   "source": [
    "head(d,20)"
   ]
  },
  {
   "cell_type": "markdown",
   "metadata": {},
   "source": [
    "## Task Allocation by Category"
   ]
  },
  {
   "cell_type": "markdown",
   "metadata": {},
   "source": [
    "### health (#1000)"
   ]
  },
  {
   "cell_type": "code",
   "execution_count": 44,
   "metadata": {},
   "outputs": [
    {
     "data": {
      "text/html": [
       "<table>\n",
       "<caption>A grouped_df: 5 × 5</caption>\n",
       "<thead>\n",
       "\t<tr><th scope=col>data_provider</th><th scope=col>data_category</th><th scope=col>cnt_by_prov_cate</th><th scope=col>cnt_by_provider</th><th scope=col>cnt_by_category</th></tr>\n",
       "\t<tr><th scope=col>&lt;chr&gt;</th><th scope=col>&lt;chr&gt;</th><th scope=col>&lt;int&gt;</th><th scope=col>&lt;int&gt;</th><th scope=col>&lt;int&gt;</th></tr>\n",
       "</thead>\n",
       "<tbody>\n",
       "\t<tr><td>Department of Health                     </td><td>health</td><td>764</td><td> 764</td><td>1000</td></tr>\n",
       "\t<tr><td>Hospital Authority                       </td><td>health</td><td>156</td><td> 156</td><td>1000</td></tr>\n",
       "\t<tr><td>Food and Health Bureau                   </td><td>health</td><td> 62</td><td>  62</td><td>1000</td></tr>\n",
       "\t<tr><td>Census and Statistics Department         </td><td>health</td><td> 15</td><td>6256</td><td>1000</td></tr>\n",
       "\t<tr><td>Food and Environmental Hygiene Department</td><td>health</td><td>  3</td><td>  37</td><td>1000</td></tr>\n",
       "</tbody>\n",
       "</table>\n"
      ],
      "text/latex": [
       "A grouped_df: 5 × 5\n",
       "\\begin{tabular}{r|lllll}\n",
       " data\\_provider & data\\_category & cnt\\_by\\_prov\\_cate & cnt\\_by\\_provider & cnt\\_by\\_category\\\\\n",
       " <chr> & <chr> & <int> & <int> & <int>\\\\\n",
       "\\hline\n",
       "\t Department of Health                      & health & 764 &  764 & 1000\\\\\n",
       "\t Hospital Authority                        & health & 156 &  156 & 1000\\\\\n",
       "\t Food and Health Bureau                    & health &  62 &   62 & 1000\\\\\n",
       "\t Census and Statistics Department          & health &  15 & 6256 & 1000\\\\\n",
       "\t Food and Environmental Hygiene Department & health &   3 &   37 & 1000\\\\\n",
       "\\end{tabular}\n"
      ],
      "text/markdown": [
       "\n",
       "A grouped_df: 5 × 5\n",
       "\n",
       "| data_provider &lt;chr&gt; | data_category &lt;chr&gt; | cnt_by_prov_cate &lt;int&gt; | cnt_by_provider &lt;int&gt; | cnt_by_category &lt;int&gt; |\n",
       "|---|---|---|---|---|\n",
       "| Department of Health                      | health | 764 |  764 | 1000 |\n",
       "| Hospital Authority                        | health | 156 |  156 | 1000 |\n",
       "| Food and Health Bureau                    | health |  62 |   62 | 1000 |\n",
       "| Census and Statistics Department          | health |  15 | 6256 | 1000 |\n",
       "| Food and Environmental Hygiene Department | health |   3 |   37 | 1000 |\n",
       "\n"
      ],
      "text/plain": [
       "  data_provider                             data_category cnt_by_prov_cate\n",
       "1 Department of Health                      health        764             \n",
       "2 Hospital Authority                        health        156             \n",
       "3 Food and Health Bureau                    health         62             \n",
       "4 Census and Statistics Department          health         15             \n",
       "5 Food and Environmental Hygiene Department health          3             \n",
       "  cnt_by_provider cnt_by_category\n",
       "1  764            1000           \n",
       "2  156            1000           \n",
       "3   62            1000           \n",
       "4 6256            1000           \n",
       "5   37            1000           "
      ]
     },
     "metadata": {},
     "output_type": "display_data"
    }
   ],
   "source": [
    "d %>% filter(data_category == \"health\")"
   ]
  },
  {
   "cell_type": "markdown",
   "metadata": {},
   "source": [
    "### environment (#1726)"
   ]
  },
  {
   "cell_type": "code",
   "execution_count": 45,
   "metadata": {},
   "outputs": [
    {
     "data": {
      "text/html": [
       "<table>\n",
       "<caption>A grouped_df: 11 × 5</caption>\n",
       "<thead>\n",
       "\t<tr><th scope=col>data_provider</th><th scope=col>data_category</th><th scope=col>cnt_by_prov_cate</th><th scope=col>cnt_by_provider</th><th scope=col>cnt_by_category</th></tr>\n",
       "\t<tr><th scope=col>&lt;chr&gt;</th><th scope=col>&lt;chr&gt;</th><th scope=col>&lt;int&gt;</th><th scope=col>&lt;int&gt;</th><th scope=col>&lt;int&gt;</th></tr>\n",
       "</thead>\n",
       "<tbody>\n",
       "\t<tr><td>Environmental Protection Department               </td><td>environment</td><td>907</td><td> 907</td><td>1726</td></tr>\n",
       "\t<tr><td>Electrical and Mechanical Services Department     </td><td>environment</td><td>702</td><td> 793</td><td>1726</td></tr>\n",
       "\t<tr><td>Drainage Services Department                      </td><td>environment</td><td> 48</td><td>  66</td><td>1726</td></tr>\n",
       "\t<tr><td>Civil Engineering and Development Department      </td><td>environment</td><td> 24</td><td>  25</td><td>1726</td></tr>\n",
       "\t<tr><td>Census and Statistics Department                  </td><td>environment</td><td> 12</td><td>6256</td><td>1726</td></tr>\n",
       "\t<tr><td>Food and Environmental Hygiene Department         </td><td>environment</td><td> 12</td><td>  37</td><td>1726</td></tr>\n",
       "\t<tr><td>Office of the Government Chief Information Officer</td><td>environment</td><td>  9</td><td> 158</td><td>1726</td></tr>\n",
       "\t<tr><td>Development Bureau                                </td><td>environment</td><td>  5</td><td>  25</td><td>1726</td></tr>\n",
       "\t<tr><td>Agriculture, Fisheries and Conservation Department</td><td>environment</td><td>  3</td><td>  22</td><td>1726</td></tr>\n",
       "\t<tr><td>Planning Department                               </td><td>environment</td><td>  3</td><td> 542</td><td>1726</td></tr>\n",
       "\t<tr><td>The Hong Kong and China Gas Company Limited       </td><td>environment</td><td>  1</td><td>   1</td><td>1726</td></tr>\n",
       "</tbody>\n",
       "</table>\n"
      ],
      "text/latex": [
       "A grouped_df: 11 × 5\n",
       "\\begin{tabular}{r|lllll}\n",
       " data\\_provider & data\\_category & cnt\\_by\\_prov\\_cate & cnt\\_by\\_provider & cnt\\_by\\_category\\\\\n",
       " <chr> & <chr> & <int> & <int> & <int>\\\\\n",
       "\\hline\n",
       "\t Environmental Protection Department                & environment & 907 &  907 & 1726\\\\\n",
       "\t Electrical and Mechanical Services Department      & environment & 702 &  793 & 1726\\\\\n",
       "\t Drainage Services Department                       & environment &  48 &   66 & 1726\\\\\n",
       "\t Civil Engineering and Development Department       & environment &  24 &   25 & 1726\\\\\n",
       "\t Census and Statistics Department                   & environment &  12 & 6256 & 1726\\\\\n",
       "\t Food and Environmental Hygiene Department          & environment &  12 &   37 & 1726\\\\\n",
       "\t Office of the Government Chief Information Officer & environment &   9 &  158 & 1726\\\\\n",
       "\t Development Bureau                                 & environment &   5 &   25 & 1726\\\\\n",
       "\t Agriculture, Fisheries and Conservation Department & environment &   3 &   22 & 1726\\\\\n",
       "\t Planning Department                                & environment &   3 &  542 & 1726\\\\\n",
       "\t The Hong Kong and China Gas Company Limited        & environment &   1 &    1 & 1726\\\\\n",
       "\\end{tabular}\n"
      ],
      "text/markdown": [
       "\n",
       "A grouped_df: 11 × 5\n",
       "\n",
       "| data_provider &lt;chr&gt; | data_category &lt;chr&gt; | cnt_by_prov_cate &lt;int&gt; | cnt_by_provider &lt;int&gt; | cnt_by_category &lt;int&gt; |\n",
       "|---|---|---|---|---|\n",
       "| Environmental Protection Department                | environment | 907 |  907 | 1726 |\n",
       "| Electrical and Mechanical Services Department      | environment | 702 |  793 | 1726 |\n",
       "| Drainage Services Department                       | environment |  48 |   66 | 1726 |\n",
       "| Civil Engineering and Development Department       | environment |  24 |   25 | 1726 |\n",
       "| Census and Statistics Department                   | environment |  12 | 6256 | 1726 |\n",
       "| Food and Environmental Hygiene Department          | environment |  12 |   37 | 1726 |\n",
       "| Office of the Government Chief Information Officer | environment |   9 |  158 | 1726 |\n",
       "| Development Bureau                                 | environment |   5 |   25 | 1726 |\n",
       "| Agriculture, Fisheries and Conservation Department | environment |   3 |   22 | 1726 |\n",
       "| Planning Department                                | environment |   3 |  542 | 1726 |\n",
       "| The Hong Kong and China Gas Company Limited        | environment |   1 |    1 | 1726 |\n",
       "\n"
      ],
      "text/plain": [
       "   data_provider                                      data_category\n",
       "1  Environmental Protection Department                environment  \n",
       "2  Electrical and Mechanical Services Department      environment  \n",
       "3  Drainage Services Department                       environment  \n",
       "4  Civil Engineering and Development Department       environment  \n",
       "5  Census and Statistics Department                   environment  \n",
       "6  Food and Environmental Hygiene Department          environment  \n",
       "7  Office of the Government Chief Information Officer environment  \n",
       "8  Development Bureau                                 environment  \n",
       "9  Agriculture, Fisheries and Conservation Department environment  \n",
       "10 Planning Department                                environment  \n",
       "11 The Hong Kong and China Gas Company Limited        environment  \n",
       "   cnt_by_prov_cate cnt_by_provider cnt_by_category\n",
       "1  907               907            1726           \n",
       "2  702               793            1726           \n",
       "3   48                66            1726           \n",
       "4   24                25            1726           \n",
       "5   12              6256            1726           \n",
       "6   12                37            1726           \n",
       "7    9               158            1726           \n",
       "8    5                25            1726           \n",
       "9    3                22            1726           \n",
       "10   3               542            1726           \n",
       "11   1                 1            1726           "
      ]
     },
     "metadata": {},
     "output_type": "display_data"
    }
   ],
   "source": [
    "d %>% filter(data_category == \"environment\")"
   ]
  },
  {
   "cell_type": "markdown",
   "metadata": {},
   "source": [
    "### finance (#1736)"
   ]
  },
  {
   "cell_type": "code",
   "execution_count": 46,
   "metadata": {},
   "outputs": [
    {
     "data": {
      "text/html": [
       "<table>\n",
       "<caption>A grouped_df: 10 × 5</caption>\n",
       "<thead>\n",
       "\t<tr><th scope=col>data_provider</th><th scope=col>data_category</th><th scope=col>cnt_by_prov_cate</th><th scope=col>cnt_by_provider</th><th scope=col>cnt_by_category</th></tr>\n",
       "\t<tr><th scope=col>&lt;chr&gt;</th><th scope=col>&lt;chr&gt;</th><th scope=col>&lt;int&gt;</th><th scope=col>&lt;int&gt;</th><th scope=col>&lt;int&gt;</th></tr>\n",
       "</thead>\n",
       "<tbody>\n",
       "\t<tr><td>Insurance Authority                       </td><td>finance</td><td>900</td><td> 900</td><td>1736</td></tr>\n",
       "\t<tr><td>Census and Statistics Department          </td><td>finance</td><td>272</td><td>6256</td><td>1736</td></tr>\n",
       "\t<tr><td>Companies Registry                        </td><td>finance</td><td>209</td><td> 209</td><td>1736</td></tr>\n",
       "\t<tr><td>Treasury                                  </td><td>finance</td><td>135</td><td> 180</td><td>1736</td></tr>\n",
       "\t<tr><td>Hong Kong Monetary Authority              </td><td>finance</td><td>128</td><td> 128</td><td>1736</td></tr>\n",
       "\t<tr><td>Financial Services and the Treasury Bureau</td><td>finance</td><td> 54</td><td>  54</td><td>1736</td></tr>\n",
       "\t<tr><td>Inland Revenue Department                 </td><td>finance</td><td> 19</td><td>  19</td><td>1736</td></tr>\n",
       "\t<tr><td>Customs and Excise Department             </td><td>finance</td><td> 12</td><td>  53</td><td>1736</td></tr>\n",
       "\t<tr><td>Official Receiver's Office                </td><td>finance</td><td>  4</td><td>   8</td><td>1736</td></tr>\n",
       "\t<tr><td>Drainage Services Department              </td><td>finance</td><td>  3</td><td>  66</td><td>1736</td></tr>\n",
       "</tbody>\n",
       "</table>\n"
      ],
      "text/latex": [
       "A grouped_df: 10 × 5\n",
       "\\begin{tabular}{r|lllll}\n",
       " data\\_provider & data\\_category & cnt\\_by\\_prov\\_cate & cnt\\_by\\_provider & cnt\\_by\\_category\\\\\n",
       " <chr> & <chr> & <int> & <int> & <int>\\\\\n",
       "\\hline\n",
       "\t Insurance Authority                        & finance & 900 &  900 & 1736\\\\\n",
       "\t Census and Statistics Department           & finance & 272 & 6256 & 1736\\\\\n",
       "\t Companies Registry                         & finance & 209 &  209 & 1736\\\\\n",
       "\t Treasury                                   & finance & 135 &  180 & 1736\\\\\n",
       "\t Hong Kong Monetary Authority               & finance & 128 &  128 & 1736\\\\\n",
       "\t Financial Services and the Treasury Bureau & finance &  54 &   54 & 1736\\\\\n",
       "\t Inland Revenue Department                  & finance &  19 &   19 & 1736\\\\\n",
       "\t Customs and Excise Department              & finance &  12 &   53 & 1736\\\\\n",
       "\t Official Receiver's Office                 & finance &   4 &    8 & 1736\\\\\n",
       "\t Drainage Services Department               & finance &   3 &   66 & 1736\\\\\n",
       "\\end{tabular}\n"
      ],
      "text/markdown": [
       "\n",
       "A grouped_df: 10 × 5\n",
       "\n",
       "| data_provider &lt;chr&gt; | data_category &lt;chr&gt; | cnt_by_prov_cate &lt;int&gt; | cnt_by_provider &lt;int&gt; | cnt_by_category &lt;int&gt; |\n",
       "|---|---|---|---|---|\n",
       "| Insurance Authority                        | finance | 900 |  900 | 1736 |\n",
       "| Census and Statistics Department           | finance | 272 | 6256 | 1736 |\n",
       "| Companies Registry                         | finance | 209 |  209 | 1736 |\n",
       "| Treasury                                   | finance | 135 |  180 | 1736 |\n",
       "| Hong Kong Monetary Authority               | finance | 128 |  128 | 1736 |\n",
       "| Financial Services and the Treasury Bureau | finance |  54 |   54 | 1736 |\n",
       "| Inland Revenue Department                  | finance |  19 |   19 | 1736 |\n",
       "| Customs and Excise Department              | finance |  12 |   53 | 1736 |\n",
       "| Official Receiver's Office                 | finance |   4 |    8 | 1736 |\n",
       "| Drainage Services Department               | finance |   3 |   66 | 1736 |\n",
       "\n"
      ],
      "text/plain": [
       "   data_provider                              data_category cnt_by_prov_cate\n",
       "1  Insurance Authority                        finance       900             \n",
       "2  Census and Statistics Department           finance       272             \n",
       "3  Companies Registry                         finance       209             \n",
       "4  Treasury                                   finance       135             \n",
       "5  Hong Kong Monetary Authority               finance       128             \n",
       "6  Financial Services and the Treasury Bureau finance        54             \n",
       "7  Inland Revenue Department                  finance        19             \n",
       "8  Customs and Excise Department              finance        12             \n",
       "9  Official Receiver's Office                 finance         4             \n",
       "10 Drainage Services Department               finance         3             \n",
       "   cnt_by_provider cnt_by_category\n",
       "1   900            1736           \n",
       "2  6256            1736           \n",
       "3   209            1736           \n",
       "4   180            1736           \n",
       "5   128            1736           \n",
       "6    54            1736           \n",
       "7    19            1736           \n",
       "8    53            1736           \n",
       "9     8            1736           \n",
       "10   66            1736           "
      ]
     },
     "metadata": {},
     "output_type": "display_data"
    }
   ],
   "source": [
    "d %>% filter(data_category == \"finance\")"
   ]
  },
  {
   "cell_type": "markdown",
   "metadata": {},
   "source": [
    "### climate and weather (#375)"
   ]
  },
  {
   "cell_type": "code",
   "execution_count": 47,
   "metadata": {},
   "outputs": [
    {
     "data": {
      "text/html": [
       "<table>\n",
       "<caption>A grouped_df: 2 × 5</caption>\n",
       "<thead>\n",
       "\t<tr><th scope=col>data_provider</th><th scope=col>data_category</th><th scope=col>cnt_by_prov_cate</th><th scope=col>cnt_by_provider</th><th scope=col>cnt_by_category</th></tr>\n",
       "\t<tr><th scope=col>&lt;chr&gt;</th><th scope=col>&lt;chr&gt;</th><th scope=col>&lt;int&gt;</th><th scope=col>&lt;int&gt;</th><th scope=col>&lt;int&gt;</th></tr>\n",
       "</thead>\n",
       "<tbody>\n",
       "\t<tr><td>Hong Kong Observatory                             </td><td>climate_and_weather</td><td>372</td><td>372</td><td>375</td></tr>\n",
       "\t<tr><td>Office of the Government Chief Information Officer</td><td>climate_and_weather</td><td>  3</td><td>158</td><td>375</td></tr>\n",
       "</tbody>\n",
       "</table>\n"
      ],
      "text/latex": [
       "A grouped_df: 2 × 5\n",
       "\\begin{tabular}{r|lllll}\n",
       " data\\_provider & data\\_category & cnt\\_by\\_prov\\_cate & cnt\\_by\\_provider & cnt\\_by\\_category\\\\\n",
       " <chr> & <chr> & <int> & <int> & <int>\\\\\n",
       "\\hline\n",
       "\t Hong Kong Observatory                              & climate\\_and\\_weather & 372 & 372 & 375\\\\\n",
       "\t Office of the Government Chief Information Officer & climate\\_and\\_weather &   3 & 158 & 375\\\\\n",
       "\\end{tabular}\n"
      ],
      "text/markdown": [
       "\n",
       "A grouped_df: 2 × 5\n",
       "\n",
       "| data_provider &lt;chr&gt; | data_category &lt;chr&gt; | cnt_by_prov_cate &lt;int&gt; | cnt_by_provider &lt;int&gt; | cnt_by_category &lt;int&gt; |\n",
       "|---|---|---|---|---|\n",
       "| Hong Kong Observatory                              | climate_and_weather | 372 | 372 | 375 |\n",
       "| Office of the Government Chief Information Officer | climate_and_weather |   3 | 158 | 375 |\n",
       "\n"
      ],
      "text/plain": [
       "  data_provider                                      data_category      \n",
       "1 Hong Kong Observatory                              climate_and_weather\n",
       "2 Office of the Government Chief Information Officer climate_and_weather\n",
       "  cnt_by_prov_cate cnt_by_provider cnt_by_category\n",
       "1 372              372             375            \n",
       "2   3              158             375            "
      ]
     },
     "metadata": {},
     "output_type": "display_data"
    }
   ],
   "source": [
    "d %>% filter(data_category == \"climate_and_weather\")"
   ]
  },
  {
   "cell_type": "markdown",
   "metadata": {},
   "source": [
    "### employment and labour (#363)"
   ]
  },
  {
   "cell_type": "code",
   "execution_count": 48,
   "metadata": {},
   "outputs": [
    {
     "data": {
      "text/html": [
       "<table>\n",
       "<caption>A grouped_df: 5 × 5</caption>\n",
       "<thead>\n",
       "\t<tr><th scope=col>data_provider</th><th scope=col>data_category</th><th scope=col>cnt_by_prov_cate</th><th scope=col>cnt_by_provider</th><th scope=col>cnt_by_category</th></tr>\n",
       "\t<tr><th scope=col>&lt;chr&gt;</th><th scope=col>&lt;chr&gt;</th><th scope=col>&lt;int&gt;</th><th scope=col>&lt;int&gt;</th><th scope=col>&lt;int&gt;</th></tr>\n",
       "</thead>\n",
       "<tbody>\n",
       "\t<tr><td>Census and Statistics Department                                                                          </td><td>employment_and_labour</td><td>230</td><td>6256</td><td>363</td></tr>\n",
       "\t<tr><td>Labour Department                                                                                         </td><td>employment_and_labour</td><td>102</td><td> 102</td><td>363</td></tr>\n",
       "\t<tr><td>Joint Secretariat for the Advisory Bodies on Civil Service and Judicial Salaries and Conditions of Service</td><td>employment_and_labour</td><td> 24</td><td>  24</td><td>363</td></tr>\n",
       "\t<tr><td>Office of the Government Chief Information Officer                                                        </td><td>employment_and_labour</td><td>  6</td><td> 158</td><td>363</td></tr>\n",
       "\t<tr><td>Efficiency Office                                                                                         </td><td>employment_and_labour</td><td>  1</td><td>   7</td><td>363</td></tr>\n",
       "</tbody>\n",
       "</table>\n"
      ],
      "text/latex": [
       "A grouped_df: 5 × 5\n",
       "\\begin{tabular}{r|lllll}\n",
       " data\\_provider & data\\_category & cnt\\_by\\_prov\\_cate & cnt\\_by\\_provider & cnt\\_by\\_category\\\\\n",
       " <chr> & <chr> & <int> & <int> & <int>\\\\\n",
       "\\hline\n",
       "\t Census and Statistics Department                                                                           & employment\\_and\\_labour & 230 & 6256 & 363\\\\\n",
       "\t Labour Department                                                                                          & employment\\_and\\_labour & 102 &  102 & 363\\\\\n",
       "\t Joint Secretariat for the Advisory Bodies on Civil Service and Judicial Salaries and Conditions of Service & employment\\_and\\_labour &  24 &   24 & 363\\\\\n",
       "\t Office of the Government Chief Information Officer                                                         & employment\\_and\\_labour &   6 &  158 & 363\\\\\n",
       "\t Efficiency Office                                                                                          & employment\\_and\\_labour &   1 &    7 & 363\\\\\n",
       "\\end{tabular}\n"
      ],
      "text/markdown": [
       "\n",
       "A grouped_df: 5 × 5\n",
       "\n",
       "| data_provider &lt;chr&gt; | data_category &lt;chr&gt; | cnt_by_prov_cate &lt;int&gt; | cnt_by_provider &lt;int&gt; | cnt_by_category &lt;int&gt; |\n",
       "|---|---|---|---|---|\n",
       "| Census and Statistics Department                                                                           | employment_and_labour | 230 | 6256 | 363 |\n",
       "| Labour Department                                                                                          | employment_and_labour | 102 |  102 | 363 |\n",
       "| Joint Secretariat for the Advisory Bodies on Civil Service and Judicial Salaries and Conditions of Service | employment_and_labour |  24 |   24 | 363 |\n",
       "| Office of the Government Chief Information Officer                                                         | employment_and_labour |   6 |  158 | 363 |\n",
       "| Efficiency Office                                                                                          | employment_and_labour |   1 |    7 | 363 |\n",
       "\n"
      ],
      "text/plain": [
       "  data_provider                                                                                             \n",
       "1 Census and Statistics Department                                                                          \n",
       "2 Labour Department                                                                                         \n",
       "3 Joint Secretariat for the Advisory Bodies on Civil Service and Judicial Salaries and Conditions of Service\n",
       "4 Office of the Government Chief Information Officer                                                        \n",
       "5 Efficiency Office                                                                                         \n",
       "  data_category         cnt_by_prov_cate cnt_by_provider cnt_by_category\n",
       "1 employment_and_labour 230              6256            363            \n",
       "2 employment_and_labour 102               102            363            \n",
       "3 employment_and_labour  24                24            363            \n",
       "4 employment_and_labour   6               158            363            \n",
       "5 employment_and_labour   1                 7            363            "
      ]
     },
     "metadata": {},
     "output_type": "display_data"
    }
   ],
   "source": [
    "d %>% filter(data_category == \"employment_and_labour\")"
   ]
  }
 ],
 "metadata": {
  "kernelspec": {
   "display_name": "R",
   "language": "R",
   "name": "ir"
  },
  "language_info": {
   "codemirror_mode": "r",
   "file_extension": ".r",
   "mimetype": "text/x-r-source",
   "name": "R",
   "pygments_lexer": "r",
   "version": "3.6.1"
  },
  "rsconnect": {
   "previousServerId": "edb93c54e6863a207a0bc62ca7ec4bc4",
   "servers": {
    "edb93c54e6863a207a0bc62ca7ec4bc4": {
     "appId": 21,
     "appMode": "static",
     "configUrl": "https://connect.mmdsasia.com/connect/#/apps/21",
     "disableTLSCheck": false,
     "notebookTitle": "Rough Understanding of HK Open Data",
     "server": "https://connect.mmdsasia.com/",
     "serverName": "mmhkds"
    }
   },
   "version": 1
  },
  "toc": {
   "base_numbering": 1,
   "nav_menu": {},
   "number_sections": true,
   "sideBar": true,
   "skip_h1_title": false,
   "title_cell": "Table of Contents",
   "title_sidebar": "Contents",
   "toc_cell": true,
   "toc_position": {
    "height": "calc(100% - 180px)",
    "left": "10px",
    "top": "150px",
    "width": "283.991px"
   },
   "toc_section_display": true,
   "toc_window_display": true
  },
  "toc-autonumbering": true
 },
 "nbformat": 4,
 "nbformat_minor": 4
}
